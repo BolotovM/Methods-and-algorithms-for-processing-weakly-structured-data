{
 "cells": [
  {
   "cell_type": "markdown",
   "metadata": {},
   "source": [
    "Методы и алгоритмы обработки слабоструктурированных данных\n",
    "Лабораторная работа №1 \n",
    "Болотов М.В. АСУ4-22-1м"
   ]
  },
  {
   "cell_type": "code",
   "execution_count": null,
   "metadata": {},
   "outputs": [],
   "source": [
    "from zeep import Client\n",
    "\n",
    "services = {                                                                                                # Список доступных SOAP-сервисов\n",
    "    \"CountryInfoService\": \"https://www.oorsprong.org/websamples.countryinfo/CountryInfoService.wso?WSDL\",\n",
    "    \"NumberConversion\": \"https://www.dataaccess.com/webservicesserver/numberconversion.wso?WSDL\",\n",
    "                                                                                                            # Можно добавить и другие сервичы\n",
    "}"
   ]
  },
  {
   "cell_type": "code",
   "execution_count": null,
   "metadata": {},
   "outputs": [],
   "source": [
    "def get_category():                                                                                         # Функция для получения категории запроса\n",
    "    print(\"Доступные категории для запроса:\")                                                               # Выводим список доступных категорий\n",
    "    for service_name in services:\n",
    "        print(f\"+ {service_name}\")\n",
    "    category = input(\"Введите категорию запроса или оставьте поле пустым для выхода: \")                     # Просим пользователя ввести категорию запроса или оставить поле пустым для выхода\n",
    "    return category"
   ]
  },
  {
   "cell_type": "code",
   "execution_count": null,
   "metadata": {},
   "outputs": [],
   "source": [
    "def get_method(service_name):                                                                               # Функция для получения метода сервиса\n",
    "    print(f\"Доступные методы для сервиса {service_name}:\")\n",
    "    client = Client(services[service_name])                                                                 # Создаем клиент для выбранного сервиса\n",
    "    methods = [method for method in dir(client.service) if not method.startswith('__')]\n",
    "    for method in methods:\n",
    "        print(f\"+ {method}\")\n",
    "    method = input(\"Введите метод: \")\n",
    "    return method"
   ]
  },
  {
   "cell_type": "code",
   "execution_count": null,
   "metadata": {},
   "outputs": [],
   "source": [
    "def get_input_parameters(method):                                                                           # Функция для получения параметров запроса\n",
    "    parameters = {}\n",
    "    while True:\n",
    "        param_name = input(\"Введите имя параметра (оставьте пустым для завершения): \")                      # Просим пользователя ввести имя параметра\n",
    "        if not param_name:\n",
    "            break\n",
    "        param_value = input(f\"Введите значение параметра '{param_name}': \")\n",
    "        parameters[param_name] = param_value\n",
    "    return parameters"
   ]
  },
  {
   "cell_type": "code",
   "execution_count": null,
   "metadata": {},
   "outputs": [],
   "source": [
    "def execute_request(service_name, method, parameters):                                                     # Функция для выполнения запроса к сервису\n",
    "    client = Client(services[service_name])                                                                # Создаем клиент для выбранного сервиса\n",
    "    result = getattr(client.service, method)(**parameters)                                                 # Вызываем метод сервиса с переданными параметрами\n",
    "    return result"
   ]
  },
  {
   "cell_type": "code",
   "execution_count": null,
   "metadata": {},
   "outputs": [],
   "source": [
    "while True:                                                                                                # Основной цикл программы\n",
    "    category = get_category()                                                                              # Получаем категорию запроса от пользователя\n",
    "    if not category:                                                                                       # Если пользователь не ввел категорию, завершаем программу\n",
    "        print(\"Выход из программы\")\n",
    "        break\n",
    "    if category not in services:                                                                           # Проверяем, поддерживается ли введенная категория\n",
    "        print(\"Выбранная категория запроса не поддерживается.\")\n",
    "        continue\n",
    "    method = get_method(category)                                                                          # Получаем метод для выбранной категории\n",
    "    if not method:                                                                                         # Если пользователь не ввел метод, завершаем программу\n",
    "        print(\"Выход из программы\")\n",
    "        break\n",
    "    parameters = get_input_parameters(method)                                                              # Получаем параметры запроса от пользователя\n",
    "    result = execute_request(category, method, parameters)                                                 # Выполняем запрос к сервису и выводим результат\n",
    "    print(\"Результат выполнения запроса:\", result)"
   ]
  }
 ],
 "metadata": {
  "kernelspec": {
   "display_name": "Python 3",
   "language": "python",
   "name": "python3"
  },
  "language_info": {
   "codemirror_mode": {
    "name": "ipython",
    "version": 3
   },
   "file_extension": ".py",
   "mimetype": "text/x-python",
   "name": "python",
   "nbconvert_exporter": "python",
   "pygments_lexer": "ipython3",
   "version": "3.10.7"
  }
 },
 "nbformat": 4,
 "nbformat_minor": 2
}
