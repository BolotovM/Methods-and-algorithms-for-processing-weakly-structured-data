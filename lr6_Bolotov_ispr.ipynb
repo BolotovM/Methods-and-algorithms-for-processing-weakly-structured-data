{
 "cells": [
  {
   "cell_type": "markdown",
   "metadata": {},
   "source": [
    "Методы и алгоритмы обработки слабоструктурированных данных\n",
    "Лабораторная работа №6 \n",
    "Болотов М.В. АСУ4-22-1м"
   ]
  },
  {
   "cell_type": "code",
   "execution_count": 3,
   "metadata": {},
   "outputs": [],
   "source": [
    "import os\n",
    "import subprocess\n",
    "import webbrowser\n",
    "import speech_recognition as sr"
   ]
  },
  {
   "cell_type": "code",
   "execution_count": 4,
   "metadata": {},
   "outputs": [],
   "source": [
    "def record_and_save_audio(duration=10):                                       # Функция для записи аудио с микрофона и сохранения в файл \n",
    "    recognizer = sr.Recognizer()                                              # сразу с записи поисклвый запрос не формировался, выход из ситуации :)\n",
    "\n",
    "    with sr.Microphone() as source:\n",
    "        print(f\"Говорите {duration} секунд...\")\n",
    "        try:\n",
    "            audio_data = recognizer.record(source, duration=duration)\n",
    "            file_path = \"recorded_audio.wav\"                                  # путь для сохранения аудиофайла\n",
    "            with open(file_path, \"wb\") as f:\n",
    "                f.write(audio_data.get_wav_data())\n",
    "            print(\"Аудио успешно сохранено в\", file_path)\n",
    "            return file_path\n",
    "        except Exception as e:\n",
    "            print(\"Ошибка записи аудио:\", e)\n",
    "            return None"
   ]
  },
  {
   "cell_type": "code",
   "execution_count": 5,
   "metadata": {},
   "outputs": [],
   "source": [
    "def recognize_speech(audio_file_path):                                         # Функция для распознавания речи из аудиофайла\n",
    "    recognizer = sr.Recognizer()\n",
    "\n",
    "    with sr.AudioFile(audio_file_path) as source:\n",
    "        audio_data = recognizer.listen(source)\n",
    "\n",
    "    try:\n",
    "        text = recognizer.recognize_google(audio_data, language=\"ru-RU\")\n",
    "        return text\n",
    "    except sr.UnknownValueError:\n",
    "        print(\"Не удалось распознать речь\")\n",
    "        return None\n",
    "    except sr.RequestError as e:\n",
    "        print(f\"Ошибка сервиса распознавания речи: {e}\")\n",
    "        return None"
   ]
  },
  {
   "cell_type": "code",
   "execution_count": 6,
   "metadata": {},
   "outputs": [],
   "source": [
    "\n",
    "def extract_keywords(text):                                                   # Функция для извлечения ключевых слов из текста\n",
    "    keywords = text.split()[:3]                                               # Просто разбиваем текст на слова и берем первые три\n",
    "    return keywords"
   ]
  },
  {
   "cell_type": "code",
   "execution_count": 7,
   "metadata": {},
   "outputs": [],
   "source": [
    "def search_in_yandex(query):                                                  # Функция для выполнения поиска в браузере Яндекс\n",
    "    search_url = f\"https://yandex.ru/search/?text={query}\"\n",
    "    try:\n",
    "        webbrowser.open(search_url)\n",
    "        print(\"Поиск открыт в браузере Яндекс\")\n",
    "    except Exception as e:\n",
    "        print(\"Ошибка при открытии браузера:\", e)"
   ]
  },
  {
   "cell_type": "code",
   "execution_count": 8,
   "metadata": {},
   "outputs": [
    {
     "name": "stdout",
     "output_type": "stream",
     "text": [
      "Говорите 10 секунд...\n",
      "Аудио успешно сохранено в recorded_audio.wav\n",
      "Распознанный текст: и как бы с ней это И у них это даже Почитай это и это у них считается что всё потому что у них там считается если у женщины это\n",
      "Ключевые слова: ['и', 'как', 'бы']\n",
      "Поиск открыт в браузере Яндекс\n"
     ]
    }
   ],
   "source": [
    "def main():                                                                   # Основной цикл программы\n",
    "    audio_file_path = record_and_save_audio()                                 # Запись аудио с микрофона и сохранение в файл\n",
    "    if audio_file_path:\n",
    "        speech_text = recognize_speech(audio_file_path)                       # Распознавание речи из аудиофайла\n",
    "        if speech_text:\n",
    "            print(\"Распознанный текст:\", speech_text)\n",
    "            keywords = extract_keywords(speech_text.lower())                  # Извлечение ключевых слов\n",
    "            print(\"Ключевые слова:\", keywords)\n",
    "            search_query = \"+\".join(keywords)                                 # Поиск в браузере Яндекс\n",
    "            search_in_yandex(search_query)\n",
    "\n",
    "if __name__ == \"__main__\":\n",
    "    main()"
   ]
  },
  {
   "cell_type": "code",
   "execution_count": 10,
   "metadata": {},
   "outputs": [
    {
     "name": "stdout",
     "output_type": "stream",
     "text": [
      "Говорите 10 секунд...\n",
      "Аудио успешно сохранено в recorded_audio.wav\n"
     ]
    },
    {
     "ename": "TypeError",
     "evalue": "'module' object is not callable",
     "output_type": "error",
     "traceback": [
      "\u001b[1;31m---------------------------------------------------------------------------\u001b[0m",
      "\u001b[1;31mTypeError\u001b[0m                                 Traceback (most recent call last)",
      "Cell \u001b[1;32mIn [10], line 49\u001b[0m\n\u001b[0;32m     46\u001b[0m             search_in_yandex(whisper_search_query)\n\u001b[0;32m     48\u001b[0m \u001b[38;5;28;01mif\u001b[39;00m \u001b[38;5;18m__name__\u001b[39m \u001b[38;5;241m==\u001b[39m \u001b[38;5;124m\"\u001b[39m\u001b[38;5;124m__main__\u001b[39m\u001b[38;5;124m\"\u001b[39m:\n\u001b[1;32m---> 49\u001b[0m     \u001b[43mmain\u001b[49m\u001b[43m(\u001b[49m\u001b[43m)\u001b[49m\n",
      "Cell \u001b[1;32mIn [10], line 34\u001b[0m, in \u001b[0;36mmain\u001b[1;34m()\u001b[0m\n\u001b[0;32m     32\u001b[0m audio_file_path \u001b[38;5;241m=\u001b[39m record_and_save_audio()                                 \n\u001b[0;32m     33\u001b[0m \u001b[38;5;28;01mif\u001b[39;00m audio_file_path:\n\u001b[1;32m---> 34\u001b[0m     google_text, whisper_text \u001b[38;5;241m=\u001b[39m \u001b[43mrecognize_speech\u001b[49m\u001b[43m(\u001b[49m\u001b[43maudio_file_path\u001b[49m\u001b[43m)\u001b[49m                  \n\u001b[0;32m     35\u001b[0m     \u001b[38;5;28;01mif\u001b[39;00m google_text \u001b[38;5;129;01mand\u001b[39;00m whisper_text:\n\u001b[0;32m     36\u001b[0m         google_keywords \u001b[38;5;241m=\u001b[39m extract_keywords(google_text\u001b[38;5;241m.\u001b[39mlower())                  \n",
      "Cell \u001b[1;32mIn [10], line 18\u001b[0m, in \u001b[0;36mrecognize_speech\u001b[1;34m(audio_file_path)\u001b[0m\n\u001b[0;32m     15\u001b[0m google_text \u001b[38;5;241m=\u001b[39m recognizer\u001b[38;5;241m.\u001b[39mrecognize_google(audio_data, language\u001b[38;5;241m=\u001b[39m\u001b[38;5;124m\"\u001b[39m\u001b[38;5;124mru-RU\u001b[39m\u001b[38;5;124m\"\u001b[39m)\n\u001b[0;32m     17\u001b[0m \u001b[38;5;66;03m# Распознавание речи с использованием Whisper API\u001b[39;00m\n\u001b[1;32m---> 18\u001b[0m whisper_text \u001b[38;5;241m=\u001b[39m \u001b[43mwhisper\u001b[49m\u001b[43m(\u001b[49m\u001b[43maudio_file_path\u001b[49m\u001b[43m,\u001b[49m\u001b[43m \u001b[49m\u001b[43mlang\u001b[49m\u001b[38;5;241;43m=\u001b[39;49m\u001b[38;5;124;43m'\u001b[39;49m\u001b[38;5;124;43mru-RU\u001b[39;49m\u001b[38;5;124;43m'\u001b[39;49m\u001b[43m)\u001b[49m\n\u001b[0;32m     20\u001b[0m \u001b[38;5;28mprint\u001b[39m(\u001b[38;5;124m\"\u001b[39m\u001b[38;5;124mРаспознанный текст (Google):\u001b[39m\u001b[38;5;124m\"\u001b[39m, google_text)\n\u001b[0;32m     21\u001b[0m \u001b[38;5;28mprint\u001b[39m(\u001b[38;5;124m\"\u001b[39m\u001b[38;5;124mРаспознанный текст (Whisper API):\u001b[39m\u001b[38;5;124m\"\u001b[39m, whisper_text)\n",
      "\u001b[1;31mTypeError\u001b[0m: 'module' object is not callable"
     ]
    }
   ],
   "source": [
    "# Пример сравнения \n",
    "\n",
    "import os\n",
    "import subprocess\n",
    "import webbrowser\n",
    "import speech_recognition as sr\n",
    "import whisper\n",
    "\n",
    "def recognize_speech(audio_file_path):                                         \n",
    "    try:\n",
    "        # Распознавание речи с использованием Google Speech Recognition\n",
    "        recognizer = sr.Recognizer()\n",
    "        with sr.AudioFile(audio_file_path) as source:\n",
    "            audio_data = recognizer.listen(source)\n",
    "        google_text = recognizer.recognize_google(audio_data, language=\"ru-RU\")\n",
    "        \n",
    "        # Распознавание речи с использованием Whisper API\n",
    "        whisper_text = whisper(audio_file_path, lang='ru-RU')\n",
    "        \n",
    "        print(\"Распознанный текст (Google):\", google_text)\n",
    "        print(\"Распознанный текст (Whisper API):\", whisper_text)\n",
    "        \n",
    "        return google_text, whisper_text\n",
    "    except sr.UnknownValueError:\n",
    "        print(\"Не удалось распознать речь\")\n",
    "        return None, None\n",
    "    except sr.RequestError as e:\n",
    "        print(f\"Ошибка сервиса распознавания речи: {e}\")\n",
    "        return None, None\n",
    "\n",
    "def main():\n",
    "    audio_file_path = record_and_save_audio()                                 \n",
    "    if audio_file_path:\n",
    "        google_text, whisper_text = recognize_speech(audio_file_path)                  \n",
    "        if google_text and whisper_text:\n",
    "            google_keywords = extract_keywords(google_text.lower())                  \n",
    "            whisper_keywords = extract_keywords(whisper_text.lower())                \n",
    "            \n",
    "            print(\"Ключевые слова (Google):\", google_keywords)\n",
    "            print(\"Ключевые слова (Whisper API):\", whisper_keywords)\n",
    "            \n",
    "            google_search_query = \"+\".join(google_keywords)                          \n",
    "            whisper_search_query = \"+\".join(whisper_keywords)                        \n",
    "            \n",
    "            search_in_yandex(google_search_query)\n",
    "            search_in_yandex(whisper_search_query)\n",
    "\n",
    "if __name__ == \"__main__\":\n",
    "    main()"
   ]
  },
  {
   "cell_type": "code",
   "execution_count": null,
   "metadata": {},
   "outputs": [],
   "source": []
  }
 ],
 "metadata": {
  "kernelspec": {
   "display_name": "Python 3",
   "language": "python",
   "name": "python3"
  },
  "language_info": {
   "codemirror_mode": {
    "name": "ipython",
    "version": 3
   },
   "file_extension": ".py",
   "mimetype": "text/x-python",
   "name": "python",
   "nbconvert_exporter": "python",
   "pygments_lexer": "ipython3",
   "version": "3.10.7"
  }
 },
 "nbformat": 4,
 "nbformat_minor": 2
}
