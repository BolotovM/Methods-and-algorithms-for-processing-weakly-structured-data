{
 "cells": [
  {
   "cell_type": "markdown",
   "metadata": {},
   "source": [
    "Методы и алгоритмы обработки слабоструктурированных данных\n",
    "Лабораторная работа №6 \n",
    "Болотов М.В. АСУ4-22-1м"
   ]
  },
  {
   "cell_type": "code",
   "execution_count": 23,
   "metadata": {},
   "outputs": [],
   "source": [
    "import os\n",
    "import subprocess\n",
    "import webbrowser\n",
    "import speech_recognition as sr"
   ]
  },
  {
   "cell_type": "code",
   "execution_count": 24,
   "metadata": {},
   "outputs": [],
   "source": [
    "def record_and_save_audio(duration=10):                                       # Функция для записи аудио с микрофона и сохранения в файл \n",
    "    recognizer = sr.Recognizer()                                              # сразу с записи поисклвый запрос не формировался, выход из ситуации :)\n",
    "\n",
    "    with sr.Microphone() as source:\n",
    "        print(f\"Говорите {duration} секунд...\")\n",
    "        try:\n",
    "            audio_data = recognizer.record(source, duration=duration)\n",
    "            file_path = \"recorded_audio.wav\"                                  # путь для сохранения аудиофайла\n",
    "            with open(file_path, \"wb\") as f:\n",
    "                f.write(audio_data.get_wav_data())\n",
    "            print(\"Аудио успешно сохранено в\", file_path)\n",
    "            return file_path\n",
    "        except Exception as e:\n",
    "            print(\"Ошибка записи аудио:\", e)\n",
    "            return None"
   ]
  },
  {
   "cell_type": "code",
   "execution_count": 25,
   "metadata": {},
   "outputs": [],
   "source": [
    "def recognize_speech(audio_file_path):                                         # Функция для распознавания речи из аудиофайла\n",
    "    recognizer = sr.Recognizer()\n",
    "\n",
    "    with sr.AudioFile(audio_file_path) as source:\n",
    "        audio_data = recognizer.listen(source)\n",
    "\n",
    "    try:\n",
    "        text = recognizer.recognize_google(audio_data, language=\"ru-RU\")\n",
    "        return text\n",
    "    except sr.UnknownValueError:\n",
    "        print(\"Не удалось распознать речь\")\n",
    "        return None\n",
    "    except sr.RequestError as e:\n",
    "        print(f\"Ошибка сервиса распознавания речи: {e}\")\n",
    "        return None"
   ]
  },
  {
   "cell_type": "code",
   "execution_count": 26,
   "metadata": {},
   "outputs": [],
   "source": [
    "\n",
    "def extract_keywords(text):                                                   # Функция для извлечения ключевых слов из текста\n",
    "    keywords = text.split()[:3]                                               # Просто разбиваем текст на слова и берем первые три\n",
    "    return keywords"
   ]
  },
  {
   "cell_type": "code",
   "execution_count": 27,
   "metadata": {},
   "outputs": [],
   "source": [
    "def search_in_yandex(query):                                                  # Функция для выполнения поиска в браузере Яндекс\n",
    "    search_url = f\"https://yandex.ru/search/?text={query}\"\n",
    "    try:\n",
    "        webbrowser.open(search_url)\n",
    "        print(\"Поиск открыт в браузере Яндекс\")\n",
    "    except Exception as e:\n",
    "        print(\"Ошибка при открытии браузера:\", e)"
   ]
  },
  {
   "cell_type": "code",
   "execution_count": 28,
   "metadata": {},
   "outputs": [
    {
     "name": "stdout",
     "output_type": "stream",
     "text": [
      "Говорите 10 секунд...\n",
      "Аудио успешно сохранено в recorded_audio.wav\n",
      "Распознанный текст: прогноз погоды Пермь\n",
      "Ключевые слова: ['прогноз', 'погоды', 'пермь']\n",
      "Поиск открыт в браузере Яндекс\n"
     ]
    }
   ],
   "source": [
    "def main():                                                                   # Основной цикл программы\n",
    "    audio_file_path = record_and_save_audio()                                 # Запись аудио с микрофона и сохранение в файл\n",
    "    if audio_file_path:\n",
    "        speech_text = recognize_speech(audio_file_path)                       # Распознавание речи из аудиофайла\n",
    "        if speech_text:\n",
    "            print(\"Распознанный текст:\", speech_text)\n",
    "            keywords = extract_keywords(speech_text.lower())                  # Извлечение ключевых слов\n",
    "            print(\"Ключевые слова:\", keywords)\n",
    "            search_query = \"+\".join(keywords)                                 # Поиск в браузере Яндекс\n",
    "            search_in_yandex(search_query)\n",
    "\n",
    "if __name__ == \"__main__\":\n",
    "    main()"
   ]
  },
  {
   "cell_type": "code",
   "execution_count": null,
   "metadata": {},
   "outputs": [],
   "source": []
  }
 ],
 "metadata": {
  "kernelspec": {
   "display_name": "Python 3",
   "language": "python",
   "name": "python3"
  },
  "language_info": {
   "codemirror_mode": {
    "name": "ipython",
    "version": 3
   },
   "file_extension": ".py",
   "mimetype": "text/x-python",
   "name": "python",
   "nbconvert_exporter": "python",
   "pygments_lexer": "ipython3",
   "version": "3.10.7"
  }
 },
 "nbformat": 4,
 "nbformat_minor": 2
}
